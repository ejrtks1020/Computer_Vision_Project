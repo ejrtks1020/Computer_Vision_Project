{
  "nbformat": 4,
  "nbformat_minor": 0,
  "metadata": {
    "colab": {
      "name": "Kaggle Chess Piece Detection Train (Yolo v5)",
      "provenance": [],
      "collapsed_sections": [],
      "mount_file_id": "10FYwl2umLudm0vOGU_HDzetiiXLJqBB_",
      "authorship_tag": "ABX9TyOiyIdVRJ8xEIZM9QL5UfXa",
      "include_colab_link": true
    },
    "kernelspec": {
      "name": "python3",
      "display_name": "Python 3"
    },
    "language_info": {
      "name": "python"
    },
    "accelerator": "GPU"
  },
  "cells": [
    {
      "cell_type": "markdown",
      "metadata": {
        "id": "view-in-github",
        "colab_type": "text"
      },
      "source": [
        "<a href=\"https://colab.research.google.com/github/ejrtks1020/Computer_Vision_Project/blob/main/Kaggle-Object-Detection/Kaggle_Chess_Piece_Detection_Train_(Yolo_v5).ipynb\" target=\"_parent\"><img src=\"https://colab.research.google.com/assets/colab-badge.svg\" alt=\"Open In Colab\"/></a>"
      ]
    },
    {
      "cell_type": "markdown",
      "source": [
        "# Chess Piece Object Detection Dataset. \n",
        "Labeled with LabelImg.\n",
        "\n",
        "https://www.kaggle.com/tannergi/chess-piece-detection"
      ],
      "metadata": {
        "id": "qWxca3gywxoU"
      }
    },
    {
      "cell_type": "markdown",
      "source": [
        "#1. Ultralytics Yolov5 설치"
      ],
      "metadata": {
        "id": "rV8ywDlww5nT"
      }
    },
    {
      "cell_type": "code",
      "source": [
        "# Clone and install YOLOv5\n",
        "!git clone https://github.com/ultralytics/yolov5\n",
        "%cd yolov5\n",
        "%pip install -qr requirements.txt\n",
        "%cd .."
      ],
      "metadata": {
        "colab": {
          "base_uri": "https://localhost:8080/"
        },
        "id": "L7ZuvHDEw9z5",
        "outputId": "418ab44d-9ef8-42cd-dcf8-461a5914d3f6"
      },
      "execution_count": 47,
      "outputs": [
        {
          "output_type": "stream",
          "name": "stdout",
          "text": [
            "fatal: destination path 'yolov5' already exists and is not an empty directory.\n",
            "/content/yolov5\n",
            "/content\n"
          ]
        }
      ]
    },
    {
      "cell_type": "markdown",
      "source": [
        "#2. 데이터 다운로드"
      ],
      "metadata": {
        "id": "4pSBnsJ8xKzC"
      }
    },
    {
      "cell_type": "code",
      "source": [
        "import os\n",
        "os.environ['KAGGLE_USERNAME'] = 'asdsadwqrr'\n",
        "os.environ['KAGGLE_KEY'] = 'fcd162570bf9e9f427cde4418405b341'"
      ],
      "metadata": {
        "id": "d2e8VJySxJJK"
      },
      "execution_count": 48,
      "outputs": []
    },
    {
      "cell_type": "code",
      "source": [
        "!kaggle datasets download -d tannergi/chess-piece-detection"
      ],
      "metadata": {
        "colab": {
          "base_uri": "https://localhost:8080/"
        },
        "id": "pws9unvExNhS",
        "outputId": "1c4734c4-f455-41d8-802b-119254b7cb38"
      },
      "execution_count": 49,
      "outputs": [
        {
          "output_type": "stream",
          "name": "stdout",
          "text": [
            "chess-piece-detection.zip: Skipping, found more recently modified local copy (use --force to force download)\n"
          ]
        }
      ]
    },
    {
      "cell_type": "code",
      "source": [
        "!unzip '*.zip'"
      ],
      "metadata": {
        "id": "xvH564TgxU4p"
      },
      "execution_count": null,
      "outputs": []
    },
    {
      "cell_type": "code",
      "source": [
        "# Ultralytics Yolo images와 labels 디렉토리를 train, val 용으로 생성\n",
        "!mkdir /content/Chess;\n",
        "!mkdir /content/Chess/images; mkdir /content/Chess/labels\n",
        "!mkdir /content/Chess/images/train; mkdir /content/Chess/images/val\n",
        "!mkdir /content/Chess/labels/train; mkdir /content/Chess/labels/val"
      ],
      "metadata": {
        "colab": {
          "base_uri": "https://localhost:8080/"
        },
        "id": "K8c5cty0xnoq",
        "outputId": "8ff4fc77-a65a-42bc-a32d-371269c66362"
      },
      "execution_count": 51,
      "outputs": [
        {
          "output_type": "stream",
          "name": "stdout",
          "text": [
            "mkdir: cannot create directory ‘/content/Chess’: File exists\n",
            "mkdir: cannot create directory ‘/content/Chess/images’: File exists\n",
            "mkdir: cannot create directory ‘/content/Chess/labels’: File exists\n",
            "mkdir: cannot create directory ‘/content/Chess/images/train’: File exists\n",
            "mkdir: cannot create directory ‘/content/Chess/images/val’: File exists\n",
            "mkdir: cannot create directory ‘/content/Chess/labels/train’: File exists\n",
            "mkdir: cannot create directory ‘/content/Chess/labels/val’: File exists\n"
          ]
        }
      ]
    },
    {
      "cell_type": "markdown",
      "source": [
        "# 3. 데이터 셋의 annotation을 Ultralytics Yolo format으로 생성\n",
        "* annotation용 xml 파일을 txt 파일로 변환\n",
        "* 하나의 이미지는 하나의 txt 파일로 변환\n",
        "* 확장자를 제외한 이미지의 파일명과 annotation 파일명이 서로 동일해야 함.\n",
        "* 하나의 xml annotation 파일을 Yolo 포맷용 txt 파일로 변환하는 함수 생성\n",
        "* voc annotation의 좌상단(Top left: x1, y1), 우하단(Bottom right: x2, y2) 좌표를 Bounding Box 중심 좌표(Center_x, Center_y)와 너비(width), 높이(height)로 변경\n",
        "* 중심 좌표와 너비, 높이는 원본 이미지 레벨로 scale 되어야 함. 모든 값은 0~1 사이 값으로 변환됨.\n",
        "* class_id는 여러개의 label들을 0 부터 순차적으로 1씩 증가시켜 id 부여"
      ],
      "metadata": {
        "id": "TgIJWs9Lx4fi"
      }
    },
    {
      "cell_type": "code",
      "source": [
        "!cat \"/content/Chess Detection/annotations/IMG_1991.xml\""
      ],
      "metadata": {
        "colab": {
          "base_uri": "https://localhost:8080/"
        },
        "id": "-GyYDKD0xzbK",
        "outputId": "5e291b55-486b-4a47-c655-6c8891581b2f"
      },
      "execution_count": 52,
      "outputs": [
        {
          "output_type": "stream",
          "name": "stdout",
          "text": [
            "<annotation>\n",
            "\t<folder>Chess Detection</folder>\n",
            "\t<filename>IMG_1991.JPG</filename>\n",
            "\t<path>C:\\Users\\Gilbert\\Google Drive\\Brand\\Datasets\\Chess Detection\\IMG_1991.JPG</path>\n",
            "\t<source>\n",
            "\t\t<database>Unknown</database>\n",
            "\t</source>\n",
            "\t<size>\n",
            "\t\t<width>4000</width>\n",
            "\t\t<height>2248</height>\n",
            "\t\t<depth>3</depth>\n",
            "\t</size>\n",
            "\t<segmented>0</segmented>\n",
            "\t<object>\n",
            "\t\t<name>white-rook</name>\n",
            "\t\t<pose>Unspecified</pose>\n",
            "\t\t<truncated>0</truncated>\n",
            "\t\t<difficult>0</difficult>\n",
            "\t\t<bndbox>\n",
            "\t\t\t<xmin>1325</xmin>\n",
            "\t\t\t<ymin>1112</ymin>\n",
            "\t\t\t<xmax>1564</xmax>\n",
            "\t\t\t<ymax>1378</ymax>\n",
            "\t\t</bndbox>\n",
            "\t</object>\n",
            "</annotation>\n"
          ]
        }
      ]
    },
    {
      "cell_type": "code",
      "source": [
        "import glob\n",
        "import xml.etree.ElementTree as ET\n",
        "import cv2\n",
        "xml_file = '/content/Chess Detection/annotations/IMG_1989.xml'\n",
        "tree = ET.parse(xml_file)\n",
        "root = tree.getroot()"
      ],
      "metadata": {
        "id": "sqMKO4Db_ncA"
      },
      "execution_count": 53,
      "outputs": []
    },
    {
      "cell_type": "code",
      "source": [
        "img_node = root.find('size')\n",
        "img_node"
      ],
      "metadata": {
        "colab": {
          "base_uri": "https://localhost:8080/"
        },
        "id": "vtY9c3EL_nXv",
        "outputId": "d0e0764e-f042-448e-cb3d-052fc9bc25ca"
      },
      "execution_count": 54,
      "outputs": [
        {
          "output_type": "execute_result",
          "data": {
            "text/plain": [
              "<Element 'size' at 0x7f83a9d4bcb0>"
            ]
          },
          "metadata": {},
          "execution_count": 54
        }
      ]
    },
    {
      "cell_type": "code",
      "source": [
        "img_node.find('width').text, img_node.find('height').text"
      ],
      "metadata": {
        "colab": {
          "base_uri": "https://localhost:8080/"
        },
        "id": "s8NgxAQaAqYg",
        "outputId": "36ed6976-f40f-42e7-e21f-8eabfb28ee6f"
      },
      "execution_count": 55,
      "outputs": [
        {
          "output_type": "execute_result",
          "data": {
            "text/plain": [
              "('4000', '2248')"
            ]
          },
          "metadata": {},
          "execution_count": 55
        }
      ]
    },
    {
      "cell_type": "code",
      "source": [
        "w, h = int(img_node.find('width').text), int(img_node.find('height').text)\n",
        "# 만약 annot값이 0이거나 없다면 이미지를 읽어서 width height 값을 구한다\n",
        "if w == '' or w == 0 or h =='' or h == 0:\n",
        "  img_path = xml_file.replace('annotations', 'images').replace('.xml', '.JPG')\n",
        "  w, h = cv2.imread(img_path).shape[:2]"
      ],
      "metadata": {
        "id": "6X5v1SLRA9Ln"
      },
      "execution_count": 56,
      "outputs": []
    },
    {
      "cell_type": "code",
      "source": [
        "w, h"
      ],
      "metadata": {
        "colab": {
          "base_uri": "https://localhost:8080/"
        },
        "id": "tD2W7DeeByko",
        "outputId": "095ed651-d048-4ee5-95ff-0523b65bf12a"
      },
      "execution_count": 57,
      "outputs": [
        {
          "output_type": "execute_result",
          "data": {
            "text/plain": [
              "(4000, 2248)"
            ]
          },
          "metadata": {},
          "execution_count": 57
        }
      ]
    },
    {
      "cell_type": "code",
      "source": [
        "obj = root.find('object')\n",
        "xmlbox = obj.find('bndbox')\n",
        "x1 = int(xmlbox.find('xmin').text)\n",
        "y1 = int(xmlbox.find('ymin').text)\n",
        "x2 = int(xmlbox.find('xmax').text)\n",
        "y2 = int(xmlbox.find('ymax').text)\n",
        "\n",
        "(x1, y1), (x2, y2)"
      ],
      "metadata": {
        "colab": {
          "base_uri": "https://localhost:8080/"
        },
        "id": "cHbrP5X5B1mu",
        "outputId": "6d84a017-7147-47d5-89c3-504193e41f8a"
      },
      "execution_count": 58,
      "outputs": [
        {
          "output_type": "execute_result",
          "data": {
            "text/plain": [
              "((1780, 573), (2319, 1442))"
            ]
          },
          "metadata": {},
          "execution_count": 58
        }
      ]
    },
    {
      "cell_type": "code",
      "source": [
        "object_name = obj.find('name').text\n",
        "object_name"
      ],
      "metadata": {
        "colab": {
          "base_uri": "https://localhost:8080/",
          "height": 36
        },
        "id": "YPSh6VizCUKO",
        "outputId": "090cb126-bb83-4de1-ddc9-5ac03b3feec2"
      },
      "execution_count": 59,
      "outputs": [
        {
          "output_type": "execute_result",
          "data": {
            "application/vnd.google.colaboratory.intrinsic+json": {
              "type": "string"
            },
            "text/plain": [
              "'white-rook'"
            ]
          },
          "metadata": {},
          "execution_count": 59
        }
      ]
    },
    {
      "cell_type": "code",
      "source": [
        "CLASS_NAMES = []"
      ],
      "metadata": {
        "id": "iki-z9XjDBhe"
      },
      "execution_count": 60,
      "outputs": []
    },
    {
      "cell_type": "code",
      "source": [
        "center_x = (x1 + x2) / 2\n",
        "center_y = (y1 + y2) / 2\n",
        "bbox_width = x2 - x1\n",
        "bbox_height = y2 - y1\n",
        "center_x_norm = round(center_x / w, 7)\n",
        "center_y_norm = round(center_y / h, 7)\n",
        "bbox_width_norm = round(bbox_width / w, 7)\n",
        "bbox_height_norm = round(bbox_height / h, 7)\n",
        "\n",
        "if object_name not in CLASS_NAMES:\n",
        "  CLASS_NAMES.append(object_name)\n",
        "class_id = CLASS_NAMES.index(object_name)\n",
        "\n",
        "center_x_norm, center_y_norm, bbox_width_norm, bbox_height_norm, class_id"
      ],
      "metadata": {
        "colab": {
          "base_uri": "https://localhost:8080/"
        },
        "id": "GlkyVtaqCcaP",
        "outputId": "26fd7e0c-cb2c-4f62-96c1-ae9ec9926597"
      },
      "execution_count": 61,
      "outputs": [
        {
          "output_type": "execute_result",
          "data": {
            "text/plain": [
              "(0.512375, 0.4481762, 0.13475, 0.3865658, 0)"
            ]
          },
          "metadata": {},
          "execution_count": 61
        }
      ]
    },
    {
      "cell_type": "code",
      "source": [
        "def xml_to_txt(input_xml_file, output_txt_file):\n",
        "  # ElementTree로 입력 XML파일 파싱\n",
        "  tree = ET.parse(input_xml_file)\n",
        "  root = tree.getroot()\n",
        "  img_node = root.find('size')\n",
        "  # 만약 img_node를 찾지 못하면 해당 xml파일을 변환 종료\n",
        "  if img_node is None:\n",
        "    return None\n",
        "\n",
        "  # 원본 이미지의 너비와 높이 추출.\n",
        "  img_width = int(img_node.find('width').text)\n",
        "  img_height = int(img_node.find('height').text)\n",
        "\n",
        "  # 만약 너비와 높이 값이 0이라면 이미지 파일을 읽어서 너비와 높이를 구함\n",
        "  if img_width == 0 or img_height == 0:\n",
        "    img_height, img_width = cv2.imread(input_xml_file.replace('.xml', '.jpg')).shape[:2]\n",
        "  \n",
        "  # xml 파일내에 있는 모든 object Element를 찾는다.\n",
        "  with open(output_txt_file, 'w') as output_fpointer:\n",
        "    for obj in root.findall('object'):\n",
        "      # bndbox를 찾아서 좌상단(x1, y1), 우하단(x2, y2) 좌표 추출.\n",
        "      xmlbox = obj.find('bndbox')\n",
        "      x1 = int(xmlbox.find('xmin').text)\n",
        "      y1 = int(xmlbox.find('ymin').text)\n",
        "      x2 = int(xmlbox.find('xmax').text)\n",
        "      y2 = int(xmlbox.find('ymax').text)\n",
        "\n",
        "      object_name = obj.find('name').text\n",
        "\n",
        "      # 만약 좌표중에 0보다 작은 값이 있으면 해당 xml파일 변환 종료\n",
        "      if (x1 < 0) or (y1 < 0) or (x2 < 0) or (y2 < 0):\n",
        "        break\n",
        "      \n",
        "      # object_name 원본 좌표를 입력하여 Yolo 포맷으로 변환하는 함수 호출\n",
        "      class_id, cx_norm, cy_norm, bbw_norm, bbh_norm = convert_yolo_coord(object_name, img_width, img_height, x1, y1, x2, y2)\n",
        "\n",
        "      #변환된 yolo 좌표를 object별로 출력 text 파일에 write\n",
        "      value_str = ('{0} {1} {2} {3} {4}').format(class_id, cx_norm, cy_norm, bbw_norm, bbh_norm)\n",
        "      output_fpointer.write(value_str + '\\n')\n",
        "\n",
        "def convert_yolo_coord(object_name, img_width, img_height, x1, y1, x2, y2):\n",
        "  # class_id는 CLASS_NAMES 리스트에서 index 번호로 추출.\n",
        "  if object_name not in CLASS_NAMES:\n",
        "    CLASS_NAMES.append(object_name)\n",
        "  class_id = CLASS_NAMES.index(object_name)\n",
        "  # 중심 좌표와 너비, 높이 계산. \n",
        "  center_x = (x1 + x2)/2\n",
        "  center_y = (y1 + y2)/2\n",
        "  width = x2 - x1\n",
        "  height = y2 - y1\n",
        "  # 원본 이미지 기준으로 중심 좌표와 너비 높이를 0-1 사이 값으로 scaling\n",
        "  center_x_norm = center_x / img_width\n",
        "  center_y_norm = center_y / img_height\n",
        "  width_norm = width / img_width\n",
        "  height_norm = height / img_height\n",
        "\n",
        "  return class_id, round(center_x_norm, 7), round(center_y_norm, 7), round(width_norm, 7), round(height_norm, 7)"
      ],
      "metadata": {
        "id": "CVG5q__YEn3W"
      },
      "execution_count": 64,
      "outputs": []
    },
    {
      "cell_type": "code",
      "source": [
        "xml_to_txt('/content/Chess Detection/annotations/IMG_1989.xml', '/content/Chess/labels/train/IMG_1989.txt')"
      ],
      "metadata": {
        "id": "5EMIpmTLWpFq"
      },
      "execution_count": 66,
      "outputs": []
    },
    {
      "cell_type": "markdown",
      "source": [
        "## Train data, Validation data 분리"
      ],
      "metadata": {
        "id": "f86HdJ_iXrma"
      }
    },
    {
      "cell_type": "code",
      "source": [
        "from sklearn.model_selection import train_test_split\n",
        "total_img_paths = glob.glob('/content/Chess Detection/images/*.JPG')\n",
        "data_id = [path.split('/')[-1][:-4] for path in total_img_paths]\n",
        "train, val = train_test_split(data_id, test_size = 0.15, random_state = 42)"
      ],
      "metadata": {
        "id": "oWF2zh0ZXnRa"
      },
      "execution_count": 75,
      "outputs": []
    },
    {
      "cell_type": "markdown",
      "source": [
        "## VOC Format의 여러개 xml파일들을 Yolo Format으로 변환"
      ],
      "metadata": {
        "id": "NL26Xs55ZqPJ"
      }
    },
    {
      "cell_type": "code",
      "source": [
        "import shutil\n",
        "def make_yolo_anno_file(src_dir, target_dir, data = 'train'):\n",
        "  src_img_dir = src_dir + '/images/'\n",
        "  src_annot_dir = src_dir + '/annotations/'\n",
        "\n",
        "  if data == 'train':\n",
        "    src_img_paths = [src_img_dir + name + '.JPG' for name in train]\n",
        "    src_annot_paths = [src_annot_dir + name + '.xml' for name in train]\n",
        "  else:\n",
        "    src_img_paths = [src_img_dir + name + '.JPG' for name in val]\n",
        "    src_annot_paths = [src_annot_dir + name + '.xml' for name in val]\n",
        "\n",
        "  for i in src_img_paths:\n",
        "    shutil.copy(i, target_dir + '/images/' + data + '/' + i.split('/')[-1])\n",
        "  \n",
        "  for i in src_annot_paths:\n",
        "    xml_to_txt(i, target_dir + '/labels/' + data + '/' + i.split('/')[-1].replace('.xml', '.txt'))\n",
        "    \n",
        "# train용 images와 label annotation 생성\n",
        "make_yolo_anno_file('/content/Chess Detection', '/content/Chess', 'train')\n",
        "# val용 images와 label annotation 생성\n",
        "make_yolo_anno_file('/content/Chess Detection', '/content/Chess', 'val')"
      ],
      "metadata": {
        "id": "hhzXC_2IYD5w"
      },
      "execution_count": 82,
      "outputs": []
    },
    {
      "cell_type": "code",
      "source": [
        "print(CLASS_NAMES)"
      ],
      "metadata": {
        "colab": {
          "base_uri": "https://localhost:8080/"
        },
        "id": "XfhRej24Ziri",
        "outputId": "6b22d277-4504-4a6d-e315-0028bfb69904"
      },
      "execution_count": 86,
      "outputs": [
        {
          "output_type": "stream",
          "name": "stdout",
          "text": [
            "['white-rook', 'black-bishop', 'black-knight', 'white-king', 'black-rook', 'white-pawn', 'white-bishop', 'white-queen', 'black-queen', 'black-king', 'black-pawn', 'white-knight']\n"
          ]
        }
      ]
    },
    {
      "cell_type": "markdown",
      "source": [
        "#4. Chess Piece Image Dataset 학습 수행"
      ],
      "metadata": {
        "id": "uYmLqec3eydA"
      }
    },
    {
      "cell_type": "code",
      "source": [
        "#train log와 weights를 저장할 경로 생성\n",
        "!mkdir /content/drive/MyDrive/Chess_images"
      ],
      "metadata": {
        "id": "Prhk-7djeoRY"
      },
      "execution_count": 84,
      "outputs": []
    },
    {
      "cell_type": "code",
      "source": [
        "!python yolov5/train.py --img 1024 --batch 8 --epochs 60 \\\n",
        "--data '/content/Chess/chess.yaml' \\\n",
        "--weights yolov5/yolov5s.pt --cache \\\n",
        "--project /content/drive/MyDrive/Chess_images --name chess --exist-ok"
      ],
      "metadata": {
        "colab": {
          "base_uri": "https://localhost:8080/"
        },
        "id": "I6I2XtxXfIBo",
        "outputId": "c4345bb8-7277-43f4-fb48-c69c70e716f1"
      },
      "execution_count": 88,
      "outputs": [
        {
          "output_type": "stream",
          "name": "stdout",
          "text": [
            "\u001b[34m\u001b[1mtrain: \u001b[0mweights=yolov5/yolov5s.pt, cfg=, data=/content/Chess/chess.yaml, hyp=yolov5/data/hyps/hyp.scratch.yaml, epochs=60, batch_size=8, imgsz=1024, rect=False, resume=False, nosave=False, noval=False, noautoanchor=False, evolve=None, bucket=, cache=ram, image_weights=False, device=, multi_scale=False, single_cls=False, optimizer=SGD, sync_bn=False, workers=8, project=/content/drive/MyDrive/Chess_images, name=chess, exist_ok=True, quad=False, linear_lr=False, label_smoothing=0.0, patience=100, freeze=[0], save_period=-1, local_rank=-1, entity=None, upload_dataset=False, bbox_interval=-1, artifact_alias=latest\n",
            "\u001b[34m\u001b[1mgithub: \u001b[0mup to date with https://github.com/ultralytics/yolov5 ✅\n",
            "YOLOv5 🚀 v6.0-266-g07221f1 torch 1.10.0+cu111 CUDA:0 (Tesla P100-PCIE-16GB, 16281MiB)\n",
            "\n",
            "\u001b[34m\u001b[1mhyperparameters: \u001b[0mlr0=0.01, lrf=0.1, momentum=0.937, weight_decay=0.0005, warmup_epochs=3.0, warmup_momentum=0.8, warmup_bias_lr=0.1, box=0.05, cls=0.5, cls_pw=1.0, obj=1.0, obj_pw=1.0, iou_t=0.2, anchor_t=4.0, fl_gamma=0.0, hsv_h=0.015, hsv_s=0.7, hsv_v=0.4, degrees=0.0, translate=0.1, scale=0.5, shear=0.0, perspective=0.0, flipud=0.0, fliplr=0.5, mosaic=1.0, mixup=0.0, copy_paste=0.0\n",
            "\u001b[34m\u001b[1mWeights & Biases: \u001b[0mrun 'pip install wandb' to automatically track and visualize YOLOv5 🚀 runs (RECOMMENDED)\n",
            "\u001b[34m\u001b[1mTensorBoard: \u001b[0mStart with 'tensorboard --logdir /content/drive/MyDrive/Chess_images', view at http://localhost:6006/\n",
            "Overriding model.yaml nc=80 with nc=12\n",
            "\n",
            "                 from  n    params  module                                  arguments                     \n",
            "  0                -1  1      3520  models.common.Conv                      [3, 32, 6, 2, 2]              \n",
            "  1                -1  1     18560  models.common.Conv                      [32, 64, 3, 2]                \n",
            "  2                -1  1     18816  models.common.C3                        [64, 64, 1]                   \n",
            "  3                -1  1     73984  models.common.Conv                      [64, 128, 3, 2]               \n",
            "  4                -1  2    115712  models.common.C3                        [128, 128, 2]                 \n",
            "  5                -1  1    295424  models.common.Conv                      [128, 256, 3, 2]              \n",
            "  6                -1  3    625152  models.common.C3                        [256, 256, 3]                 \n",
            "  7                -1  1   1180672  models.common.Conv                      [256, 512, 3, 2]              \n",
            "  8                -1  1   1182720  models.common.C3                        [512, 512, 1]                 \n",
            "  9                -1  1    656896  models.common.SPPF                      [512, 512, 5]                 \n",
            " 10                -1  1    131584  models.common.Conv                      [512, 256, 1, 1]              \n",
            " 11                -1  1         0  torch.nn.modules.upsampling.Upsample    [None, 2, 'nearest']          \n",
            " 12           [-1, 6]  1         0  models.common.Concat                    [1]                           \n",
            " 13                -1  1    361984  models.common.C3                        [512, 256, 1, False]          \n",
            " 14                -1  1     33024  models.common.Conv                      [256, 128, 1, 1]              \n",
            " 15                -1  1         0  torch.nn.modules.upsampling.Upsample    [None, 2, 'nearest']          \n",
            " 16           [-1, 4]  1         0  models.common.Concat                    [1]                           \n",
            " 17                -1  1     90880  models.common.C3                        [256, 128, 1, False]          \n",
            " 18                -1  1    147712  models.common.Conv                      [128, 128, 3, 2]              \n",
            " 19          [-1, 14]  1         0  models.common.Concat                    [1]                           \n",
            " 20                -1  1    296448  models.common.C3                        [256, 256, 1, False]          \n",
            " 21                -1  1    590336  models.common.Conv                      [256, 256, 3, 2]              \n",
            " 22          [-1, 10]  1         0  models.common.Concat                    [1]                           \n",
            " 23                -1  1   1182720  models.common.C3                        [512, 512, 1, False]          \n",
            " 24      [17, 20, 23]  1     45849  models.yolo.Detect                      [12, [[10, 13, 16, 30, 33, 23], [30, 61, 62, 45, 59, 119], [116, 90, 156, 198, 373, 326]], [128, 256, 512]]\n",
            "Model Summary: 270 layers, 7051993 parameters, 7051993 gradients, 15.9 GFLOPs\n",
            "\n",
            "Transferred 343/349 items from yolov5/yolov5s.pt\n",
            "Scaled weight_decay = 0.0005\n",
            "\u001b[34m\u001b[1moptimizer:\u001b[0m SGD with parameter groups 57 weight (no decay), 60 weight, 60 bias\n",
            "\u001b[34m\u001b[1malbumentations: \u001b[0mversion 1.0.3 required by YOLOv5, but version 0.1.12 is currently installed\n",
            "\u001b[34m\u001b[1mtrain: \u001b[0mScanning '/content/Chess/labels/train.cache' images and labels... 68 found, 0 missing, 0 empty, 0 corrupt: 100% 68/68 [00:00<?, ?it/s]\n",
            "\u001b[34m\u001b[1mtrain: \u001b[0mCaching images (0.1GB ram): 100% 68/68 [00:08<00:00,  8.05it/s]\n",
            "\u001b[34m\u001b[1mval: \u001b[0mScanning '/content/Chess/labels/val.cache' images and labels... 13 found, 0 missing, 0 empty, 0 corrupt: 100% 13/13 [00:00<?, ?it/s]\n",
            "\u001b[34m\u001b[1mval: \u001b[0mCaching images (0.0GB ram): 100% 13/13 [00:02<00:00,  4.42it/s]\n",
            "Plotting labels to /content/drive/MyDrive/Chess_images/chess/labels.jpg... \n",
            "\n",
            "\u001b[34m\u001b[1mAutoAnchor: \u001b[0m5.51 anchors/target, 1.000 Best Possible Recall (BPR). Current anchors are a good fit to dataset ✅\n",
            "Image sizes 1024 train, 1024 val\n",
            "Using 2 dataloader workers\n",
            "Logging results to \u001b[1m/content/drive/MyDrive/Chess_images/chess\u001b[0m\n",
            "Starting training for 60 epochs...\n",
            "\n",
            "     Epoch   gpu_mem       box       obj       cls    labels  img_size\n",
            "      0/59     4.54G    0.1234   0.09749   0.07403        32      1024: 100% 9/9 [00:06<00:00,  1.47it/s]\n",
            "               Class     Images     Labels          P          R     mAP@.5 mAP@.5:.95: 100% 1/1 [00:00<00:00,  3.07it/s]\n",
            "                 all         13         67   0.000362     0.0183   0.000247   0.000116\n",
            "\n",
            "     Epoch   gpu_mem       box       obj       cls    labels  img_size\n",
            "      1/59     4.54G    0.1211   0.09102   0.07343        24      1024: 100% 9/9 [00:04<00:00,  2.20it/s]\n",
            "               Class     Images     Labels          P          R     mAP@.5 mAP@.5:.95: 100% 1/1 [00:00<00:00,  4.30it/s]\n",
            "                 all         13         67   0.000861     0.0295   0.000595   0.000161\n",
            "\n",
            "     Epoch   gpu_mem       box       obj       cls    labels  img_size\n",
            "      2/59     4.54G    0.1159   0.08682   0.07303        32      1024: 100% 9/9 [00:04<00:00,  2.19it/s]\n",
            "               Class     Images     Labels          P          R     mAP@.5 mAP@.5:.95: 100% 1/1 [00:00<00:00,  5.33it/s]\n",
            "                 all         13         67    0.00146     0.0216    0.00083   0.000224\n",
            "\n",
            "     Epoch   gpu_mem       box       obj       cls    labels  img_size\n",
            "      3/59     4.54G    0.1089    0.1031   0.07071        47      1024: 100% 9/9 [00:04<00:00,  2.21it/s]\n",
            "               Class     Images     Labels          P          R     mAP@.5 mAP@.5:.95: 100% 1/1 [00:00<00:00,  5.69it/s]\n",
            "                 all         13         67    0.00424     0.0501    0.00265   0.000423\n",
            "\n",
            "     Epoch   gpu_mem       box       obj       cls    labels  img_size\n",
            "      4/59     4.54G    0.1006   0.08465   0.07066        22      1024: 100% 9/9 [00:04<00:00,  2.21it/s]\n",
            "               Class     Images     Labels          P          R     mAP@.5 mAP@.5:.95: 100% 1/1 [00:00<00:00,  6.24it/s]\n",
            "                 all         13         67    0.00694     0.0599    0.00523   0.000932\n",
            "\n",
            "     Epoch   gpu_mem       box       obj       cls    labels  img_size\n",
            "      5/59     4.54G   0.09327   0.09516   0.07001        18      1024: 100% 9/9 [00:04<00:00,  2.22it/s]\n",
            "               Class     Images     Labels          P          R     mAP@.5 mAP@.5:.95: 100% 1/1 [00:00<00:00,  6.11it/s]\n",
            "                 all         13         67     0.0172     0.0934     0.0178    0.00362\n",
            "\n",
            "     Epoch   gpu_mem       box       obj       cls    labels  img_size\n",
            "      6/59     4.54G   0.08739    0.1057   0.06871        52      1024: 100% 9/9 [00:04<00:00,  2.21it/s]\n",
            "               Class     Images     Labels          P          R     mAP@.5 mAP@.5:.95: 100% 1/1 [00:00<00:00,  5.91it/s]\n",
            "                 all         13         67     0.0181      0.288     0.0281    0.00699\n",
            "\n",
            "     Epoch   gpu_mem       box       obj       cls    labels  img_size\n",
            "      7/59     4.54G    0.0787    0.1007   0.06817        37      1024: 100% 9/9 [00:04<00:00,  2.21it/s]\n",
            "               Class     Images     Labels          P          R     mAP@.5 mAP@.5:.95: 100% 1/1 [00:00<00:00,  5.81it/s]\n",
            "                 all         13         67      0.292      0.204     0.0662     0.0197\n",
            "\n",
            "     Epoch   gpu_mem       box       obj       cls    labels  img_size\n",
            "      8/59     4.54G   0.07407   0.09219   0.06776        45      1024: 100% 9/9 [00:03<00:00,  2.28it/s]\n",
            "               Class     Images     Labels          P          R     mAP@.5 mAP@.5:.95: 100% 1/1 [00:00<00:00,  5.16it/s]\n",
            "                 all         13         67       0.47      0.197     0.0905     0.0266\n",
            "\n",
            "     Epoch   gpu_mem       box       obj       cls    labels  img_size\n",
            "      9/59     4.54G   0.06971    0.1027   0.06745        19      1024: 100% 9/9 [00:03<00:00,  2.25it/s]\n",
            "               Class     Images     Labels          P          R     mAP@.5 mAP@.5:.95: 100% 1/1 [00:00<00:00,  5.40it/s]\n",
            "                 all         13         67      0.798      0.185      0.183     0.0434\n",
            "\n",
            "     Epoch   gpu_mem       box       obj       cls    labels  img_size\n",
            "     10/59     4.54G   0.06546   0.08588   0.06876        31      1024: 100% 9/9 [00:03<00:00,  2.28it/s]\n",
            "               Class     Images     Labels          P          R     mAP@.5 mAP@.5:.95: 100% 1/1 [00:00<00:00,  5.06it/s]\n",
            "                 all         13         67      0.895       0.14      0.217     0.0841\n",
            "\n",
            "     Epoch   gpu_mem       box       obj       cls    labels  img_size\n",
            "     11/59     4.54G   0.06363   0.08577    0.0682        53      1024: 100% 9/9 [00:04<00:00,  2.25it/s]\n",
            "               Class     Images     Labels          P          R     mAP@.5 mAP@.5:.95: 100% 1/1 [00:00<00:00,  5.15it/s]\n",
            "                 all         13         67      0.581      0.152      0.197     0.0784\n",
            "\n",
            "     Epoch   gpu_mem       box       obj       cls    labels  img_size\n",
            "     12/59     4.54G   0.06265   0.06359   0.06875        59      1024: 100% 9/9 [00:03<00:00,  2.25it/s]\n",
            "               Class     Images     Labels          P          R     mAP@.5 mAP@.5:.95: 100% 1/1 [00:00<00:00,  4.73it/s]\n",
            "                 all         13         67      0.098      0.485       0.16     0.0627\n",
            "\n",
            "     Epoch   gpu_mem       box       obj       cls    labels  img_size\n",
            "     13/59     4.54G   0.05372   0.05339   0.06455        20      1024: 100% 9/9 [00:03<00:00,  2.26it/s]\n",
            "               Class     Images     Labels          P          R     mAP@.5 mAP@.5:.95: 100% 1/1 [00:00<00:00,  5.59it/s]\n",
            "                 all         13         67      0.138      0.427      0.174     0.0775\n",
            "\n",
            "     Epoch   gpu_mem       box       obj       cls    labels  img_size\n",
            "     14/59     4.54G   0.05847   0.05356   0.06802        32      1024: 100% 9/9 [00:03<00:00,  2.27it/s]\n",
            "               Class     Images     Labels          P          R     mAP@.5 mAP@.5:.95: 100% 1/1 [00:00<00:00,  5.60it/s]\n",
            "                 all         13         67        0.1      0.335      0.135     0.0583\n",
            "\n",
            "     Epoch   gpu_mem       box       obj       cls    labels  img_size\n",
            "     15/59     4.54G   0.05162   0.05563   0.06455        42      1024: 100% 9/9 [00:03<00:00,  2.26it/s]\n",
            "               Class     Images     Labels          P          R     mAP@.5 mAP@.5:.95: 100% 1/1 [00:00<00:00,  5.95it/s]\n",
            "                 all         13         67      0.109      0.537      0.217     0.0951\n",
            "\n",
            "     Epoch   gpu_mem       box       obj       cls    labels  img_size\n",
            "     16/59     4.54G   0.05336   0.06293   0.06648        23      1024: 100% 9/9 [00:03<00:00,  2.26it/s]\n",
            "               Class     Images     Labels          P          R     mAP@.5 mAP@.5:.95: 100% 1/1 [00:00<00:00,  5.79it/s]\n",
            "                 all         13         67      0.504      0.194      0.213      0.109\n",
            "\n",
            "     Epoch   gpu_mem       box       obj       cls    labels  img_size\n",
            "     17/59     4.54G   0.04953   0.05389   0.06631        10      1024: 100% 9/9 [00:03<00:00,  2.26it/s]\n",
            "               Class     Images     Labels          P          R     mAP@.5 mAP@.5:.95: 100% 1/1 [00:00<00:00,  6.03it/s]\n",
            "                 all         13         67        0.3      0.245      0.202     0.0871\n",
            "\n",
            "     Epoch   gpu_mem       box       obj       cls    labels  img_size\n",
            "     18/59     4.54G     0.052   0.05186   0.06412        44      1024: 100% 9/9 [00:03<00:00,  2.27it/s]\n",
            "               Class     Images     Labels          P          R     mAP@.5 mAP@.5:.95: 100% 1/1 [00:00<00:00,  5.94it/s]\n",
            "                 all         13         67      0.136      0.279       0.15     0.0752\n",
            "\n",
            "     Epoch   gpu_mem       box       obj       cls    labels  img_size\n",
            "     19/59     4.54G   0.05325   0.04925   0.06531        25      1024: 100% 9/9 [00:04<00:00,  2.25it/s]\n",
            "               Class     Images     Labels          P          R     mAP@.5 mAP@.5:.95: 100% 1/1 [00:00<00:00,  6.24it/s]\n",
            "                 all         13         67      0.092      0.455      0.139     0.0835\n",
            "\n",
            "     Epoch   gpu_mem       box       obj       cls    labels  img_size\n",
            "     20/59     4.54G   0.05073   0.04148    0.0639        26      1024: 100% 9/9 [00:03<00:00,  2.27it/s]\n",
            "               Class     Images     Labels          P          R     mAP@.5 mAP@.5:.95: 100% 1/1 [00:00<00:00,  5.84it/s]\n",
            "                 all         13         67     0.0838      0.353      0.135     0.0581\n",
            "\n",
            "     Epoch   gpu_mem       box       obj       cls    labels  img_size\n",
            "     21/59     4.54G   0.05385   0.04855   0.06386        39      1024: 100% 9/9 [00:04<00:00,  2.24it/s]\n",
            "               Class     Images     Labels          P          R     mAP@.5 mAP@.5:.95: 100% 1/1 [00:00<00:00,  5.85it/s]\n",
            "                 all         13         67      0.125      0.334      0.154     0.0962\n",
            "\n",
            "     Epoch   gpu_mem       box       obj       cls    labels  img_size\n",
            "     22/59     4.54G   0.04753   0.04914   0.06524        15      1024: 100% 9/9 [00:03<00:00,  2.25it/s]\n",
            "               Class     Images     Labels          P          R     mAP@.5 mAP@.5:.95: 100% 1/1 [00:00<00:00,  5.88it/s]\n",
            "                 all         13         67      0.204      0.331      0.147     0.0755\n",
            "\n",
            "     Epoch   gpu_mem       box       obj       cls    labels  img_size\n",
            "     23/59     4.54G   0.05112   0.04319   0.06412        24      1024: 100% 9/9 [00:03<00:00,  2.27it/s]\n",
            "               Class     Images     Labels          P          R     mAP@.5 mAP@.5:.95: 100% 1/1 [00:00<00:00,  6.28it/s]\n",
            "                 all         13         67      0.213      0.273      0.141     0.0688\n",
            "\n",
            "     Epoch   gpu_mem       box       obj       cls    labels  img_size\n",
            "     24/59     4.54G   0.05817   0.04313   0.06279        28      1024: 100% 9/9 [00:03<00:00,  2.29it/s]\n",
            "               Class     Images     Labels          P          R     mAP@.5 mAP@.5:.95: 100% 1/1 [00:00<00:00,  5.87it/s]\n",
            "                 all         13         67     0.0835      0.251     0.0995     0.0396\n",
            "\n",
            "     Epoch   gpu_mem       box       obj       cls    labels  img_size\n",
            "     25/59     4.54G   0.05553   0.04282     0.063        29      1024: 100% 9/9 [00:03<00:00,  2.28it/s]\n",
            "               Class     Images     Labels          P          R     mAP@.5 mAP@.5:.95: 100% 1/1 [00:00<00:00,  6.39it/s]\n",
            "                 all         13         67     0.0961      0.441      0.162      0.059\n",
            "\n",
            "     Epoch   gpu_mem       box       obj       cls    labels  img_size\n",
            "     26/59     4.54G   0.04928   0.04582   0.06191        26      1024: 100% 9/9 [00:03<00:00,  2.26it/s]\n",
            "               Class     Images     Labels          P          R     mAP@.5 mAP@.5:.95: 100% 1/1 [00:00<00:00,  5.58it/s]\n",
            "                 all         13         67      0.101      0.568      0.178      0.092\n",
            "\n",
            "     Epoch   gpu_mem       box       obj       cls    labels  img_size\n",
            "     27/59     4.54G   0.04682    0.0425   0.06201        26      1024: 100% 9/9 [00:03<00:00,  2.28it/s]\n",
            "               Class     Images     Labels          P          R     mAP@.5 mAP@.5:.95: 100% 1/1 [00:00<00:00,  5.67it/s]\n",
            "                 all         13         67     0.0839      0.611       0.17     0.0955\n",
            "\n",
            "     Epoch   gpu_mem       box       obj       cls    labels  img_size\n",
            "     28/59     4.54G    0.0533   0.04011   0.06507        47      1024: 100% 9/9 [00:03<00:00,  2.28it/s]\n",
            "               Class     Images     Labels          P          R     mAP@.5 mAP@.5:.95: 100% 1/1 [00:00<00:00,  5.76it/s]\n",
            "                 all         13         67     0.0782      0.559      0.161     0.0771\n",
            "\n",
            "     Epoch   gpu_mem       box       obj       cls    labels  img_size\n",
            "     29/59     4.54G   0.05258   0.04331   0.06241        25      1024: 100% 9/9 [00:03<00:00,  2.28it/s]\n",
            "               Class     Images     Labels          P          R     mAP@.5 mAP@.5:.95: 100% 1/1 [00:00<00:00,  6.16it/s]\n",
            "                 all         13         67     0.0724      0.357      0.153     0.0704\n",
            "\n",
            "     Epoch   gpu_mem       box       obj       cls    labels  img_size\n",
            "     30/59     4.54G   0.05179   0.04127    0.0622        31      1024: 100% 9/9 [00:03<00:00,  2.29it/s]\n",
            "               Class     Images     Labels          P          R     mAP@.5 mAP@.5:.95: 100% 1/1 [00:00<00:00,  5.94it/s]\n",
            "                 all         13         67      0.443      0.185      0.174      0.101\n",
            "\n",
            "     Epoch   gpu_mem       box       obj       cls    labels  img_size\n",
            "     31/59     4.54G   0.04705   0.04266   0.06114        33      1024: 100% 9/9 [00:03<00:00,  2.28it/s]\n",
            "               Class     Images     Labels          P          R     mAP@.5 mAP@.5:.95: 100% 1/1 [00:00<00:00,  5.84it/s]\n",
            "                 all         13         67      0.105       0.53      0.171     0.0936\n",
            "\n",
            "     Epoch   gpu_mem       box       obj       cls    labels  img_size\n",
            "     32/59     4.54G   0.04548   0.04624   0.06105        53      1024: 100% 9/9 [00:03<00:00,  2.27it/s]\n",
            "               Class     Images     Labels          P          R     mAP@.5 mAP@.5:.95: 100% 1/1 [00:00<00:00,  6.05it/s]\n",
            "                 all         13         67      0.111      0.529      0.203      0.115\n",
            "\n",
            "     Epoch   gpu_mem       box       obj       cls    labels  img_size\n",
            "     33/59     4.54G   0.04456   0.04736   0.06201        28      1024: 100% 9/9 [00:03<00:00,  2.28it/s]\n",
            "               Class     Images     Labels          P          R     mAP@.5 mAP@.5:.95: 100% 1/1 [00:00<00:00,  5.82it/s]\n",
            "                 all         13         67      0.113        0.5      0.185     0.0959\n",
            "\n",
            "     Epoch   gpu_mem       box       obj       cls    labels  img_size\n",
            "     34/59     4.54G   0.04733   0.03536   0.06278        23      1024: 100% 9/9 [00:03<00:00,  2.26it/s]\n",
            "               Class     Images     Labels          P          R     mAP@.5 mAP@.5:.95: 100% 1/1 [00:00<00:00,  6.55it/s]\n",
            "                 all         13         67      0.396      0.289      0.183     0.0721\n",
            "\n",
            "     Epoch   gpu_mem       box       obj       cls    labels  img_size\n",
            "     35/59     4.54G   0.04743   0.03882   0.06109        32      1024: 100% 9/9 [00:03<00:00,  2.28it/s]\n",
            "               Class     Images     Labels          P          R     mAP@.5 mAP@.5:.95: 100% 1/1 [00:00<00:00,  6.21it/s]\n",
            "                 all         13         67      0.121      0.563      0.204      0.115\n",
            "\n",
            "     Epoch   gpu_mem       box       obj       cls    labels  img_size\n",
            "     36/59     4.54G   0.04302   0.03719     0.062        41      1024: 100% 9/9 [00:03<00:00,  2.28it/s]\n",
            "               Class     Images     Labels          P          R     mAP@.5 mAP@.5:.95: 100% 1/1 [00:00<00:00,  6.09it/s]\n",
            "                 all         13         67       0.12      0.557      0.215       0.13\n",
            "\n",
            "     Epoch   gpu_mem       box       obj       cls    labels  img_size\n",
            "     37/59     4.54G   0.04271   0.04301    0.0608        30      1024: 100% 9/9 [00:03<00:00,  2.27it/s]\n",
            "               Class     Images     Labels          P          R     mAP@.5 mAP@.5:.95: 100% 1/1 [00:00<00:00,  6.07it/s]\n",
            "                 all         13         67      0.113      0.611      0.189     0.0993\n",
            "\n",
            "     Epoch   gpu_mem       box       obj       cls    labels  img_size\n",
            "     38/59     4.54G   0.04581   0.04303   0.06202        43      1024: 100% 9/9 [00:03<00:00,  2.28it/s]\n",
            "               Class     Images     Labels          P          R     mAP@.5 mAP@.5:.95: 100% 1/1 [00:00<00:00,  6.05it/s]\n",
            "                 all         13         67      0.149      0.579      0.253      0.155\n",
            "\n",
            "     Epoch   gpu_mem       box       obj       cls    labels  img_size\n",
            "     39/59     4.54G   0.04522   0.04564   0.06013        84      1024: 100% 9/9 [00:03<00:00,  2.28it/s]\n",
            "               Class     Images     Labels          P          R     mAP@.5 mAP@.5:.95: 100% 1/1 [00:00<00:00,  6.15it/s]\n",
            "                 all         13         67      0.154      0.583      0.253      0.125\n",
            "\n",
            "     Epoch   gpu_mem       box       obj       cls    labels  img_size\n",
            "     40/59     4.54G   0.04738   0.03763   0.06045        44      1024: 100% 9/9 [00:03<00:00,  2.29it/s]\n",
            "               Class     Images     Labels          P          R     mAP@.5 mAP@.5:.95: 100% 1/1 [00:00<00:00,  6.34it/s]\n",
            "                 all         13         67      0.138      0.568      0.213      0.103\n",
            "\n",
            "     Epoch   gpu_mem       box       obj       cls    labels  img_size\n",
            "     41/59     4.54G   0.04995   0.04013   0.05972        24      1024: 100% 9/9 [00:04<00:00,  2.24it/s]\n",
            "               Class     Images     Labels          P          R     mAP@.5 mAP@.5:.95: 100% 1/1 [00:00<00:00,  6.33it/s]\n",
            "                 all         13         67      0.122      0.528      0.211      0.122\n",
            "\n",
            "     Epoch   gpu_mem       box       obj       cls    labels  img_size\n",
            "     42/59     4.54G    0.0415   0.03719   0.06019        29      1024: 100% 9/9 [00:03<00:00,  2.28it/s]\n",
            "               Class     Images     Labels          P          R     mAP@.5 mAP@.5:.95: 100% 1/1 [00:00<00:00,  6.36it/s]\n",
            "                 all         13         67      0.233      0.419      0.232      0.135\n",
            "\n",
            "     Epoch   gpu_mem       box       obj       cls    labels  img_size\n",
            "     43/59     4.54G   0.04057   0.04213   0.06127        45      1024: 100% 9/9 [00:03<00:00,  2.29it/s]\n",
            "               Class     Images     Labels          P          R     mAP@.5 mAP@.5:.95: 100% 1/1 [00:00<00:00,  5.83it/s]\n",
            "                 all         13         67      0.282      0.425      0.229      0.131\n",
            "\n",
            "     Epoch   gpu_mem       box       obj       cls    labels  img_size\n",
            "     44/59     4.54G   0.04251   0.03953   0.06137        54      1024: 100% 9/9 [00:04<00:00,  2.21it/s]\n",
            "               Class     Images     Labels          P          R     mAP@.5 mAP@.5:.95: 100% 1/1 [00:00<00:00,  6.46it/s]\n",
            "                 all         13         67      0.147      0.413      0.235      0.125\n",
            "\n",
            "     Epoch   gpu_mem       box       obj       cls    labels  img_size\n",
            "     45/59     4.54G   0.04705   0.04196   0.06106        47      1024: 100% 9/9 [00:03<00:00,  2.28it/s]\n",
            "               Class     Images     Labels          P          R     mAP@.5 mAP@.5:.95: 100% 1/1 [00:00<00:00,  6.31it/s]\n",
            "                 all         13         67      0.124      0.632      0.239      0.179\n",
            "\n",
            "     Epoch   gpu_mem       box       obj       cls    labels  img_size\n",
            "     46/59     4.54G   0.03651   0.03502   0.06209        40      1024: 100% 9/9 [00:03<00:00,  2.30it/s]\n",
            "               Class     Images     Labels          P          R     mAP@.5 mAP@.5:.95: 100% 1/1 [00:00<00:00,  6.01it/s]\n",
            "                 all         13         67      0.244      0.424      0.242      0.155\n",
            "\n",
            "     Epoch   gpu_mem       box       obj       cls    labels  img_size\n",
            "     47/59     4.54G   0.03879   0.04566   0.05926        17      1024: 100% 9/9 [00:03<00:00,  2.28it/s]\n",
            "               Class     Images     Labels          P          R     mAP@.5 mAP@.5:.95: 100% 1/1 [00:00<00:00,  6.36it/s]\n",
            "                 all         13         67     0.0976      0.653      0.224      0.146\n",
            "\n",
            "     Epoch   gpu_mem       box       obj       cls    labels  img_size\n",
            "     48/59     4.54G   0.03824   0.04344   0.06207        83      1024: 100% 9/9 [00:03<00:00,  2.29it/s]\n",
            "               Class     Images     Labels          P          R     mAP@.5 mAP@.5:.95: 100% 1/1 [00:00<00:00,  6.13it/s]\n",
            "                 all         13         67      0.111      0.749      0.242      0.166\n",
            "\n",
            "     Epoch   gpu_mem       box       obj       cls    labels  img_size\n",
            "     49/59     4.54G   0.03803   0.04497   0.06013        45      1024: 100% 9/9 [00:03<00:00,  2.28it/s]\n",
            "               Class     Images     Labels          P          R     mAP@.5 mAP@.5:.95: 100% 1/1 [00:00<00:00,  6.54it/s]\n",
            "                 all         13         67      0.176      0.453      0.258      0.189\n",
            "\n",
            "     Epoch   gpu_mem       box       obj       cls    labels  img_size\n",
            "     50/59     4.54G     0.036   0.03769   0.06082        18      1024: 100% 9/9 [00:03<00:00,  2.30it/s]\n",
            "               Class     Images     Labels          P          R     mAP@.5 mAP@.5:.95: 100% 1/1 [00:00<00:00,  5.94it/s]\n",
            "                 all         13         67      0.171      0.442      0.236      0.164\n",
            "\n",
            "     Epoch   gpu_mem       box       obj       cls    labels  img_size\n",
            "     51/59     4.54G   0.03112   0.03871   0.06014        40      1024: 100% 9/9 [00:03<00:00,  2.30it/s]\n",
            "               Class     Images     Labels          P          R     mAP@.5 mAP@.5:.95: 100% 1/1 [00:00<00:00,  6.04it/s]\n",
            "                 all         13         67      0.142      0.498       0.24      0.148\n",
            "\n",
            "     Epoch   gpu_mem       box       obj       cls    labels  img_size\n",
            "     52/59     4.54G     0.033   0.04172   0.06153        30      1024: 100% 9/9 [00:03<00:00,  2.29it/s]\n",
            "               Class     Images     Labels          P          R     mAP@.5 mAP@.5:.95: 100% 1/1 [00:00<00:00,  6.46it/s]\n",
            "                 all         13         67      0.162      0.447      0.249      0.179\n",
            "\n",
            "     Epoch   gpu_mem       box       obj       cls    labels  img_size\n",
            "     53/59     4.54G   0.03275   0.03363   0.05903        27      1024: 100% 9/9 [00:03<00:00,  2.27it/s]\n",
            "               Class     Images     Labels          P          R     mAP@.5 mAP@.5:.95: 100% 1/1 [00:00<00:00,  6.45it/s]\n",
            "                 all         13         67      0.141      0.581       0.25       0.19\n",
            "\n",
            "     Epoch   gpu_mem       box       obj       cls    labels  img_size\n",
            "     54/59     4.54G     0.032   0.03921   0.05956        21      1024: 100% 9/9 [00:03<00:00,  2.29it/s]\n",
            "               Class     Images     Labels          P          R     mAP@.5 mAP@.5:.95: 100% 1/1 [00:00<00:00,  5.61it/s]\n",
            "                 all         13         67      0.219      0.419      0.262      0.199\n",
            "\n",
            "     Epoch   gpu_mem       box       obj       cls    labels  img_size\n",
            "     55/59     4.54G   0.03012   0.03721   0.05993        26      1024: 100% 9/9 [00:03<00:00,  2.29it/s]\n",
            "               Class     Images     Labels          P          R     mAP@.5 mAP@.5:.95: 100% 1/1 [00:00<00:00,  5.76it/s]\n",
            "                 all         13         67      0.142      0.488      0.262      0.178\n",
            "\n",
            "     Epoch   gpu_mem       box       obj       cls    labels  img_size\n",
            "     56/59     4.54G   0.03352   0.03696   0.06091        29      1024: 100% 9/9 [00:03<00:00,  2.28it/s]\n",
            "               Class     Images     Labels          P          R     mAP@.5 mAP@.5:.95: 100% 1/1 [00:00<00:00,  6.71it/s]\n",
            "                 all         13         67      0.156      0.447       0.25      0.168\n",
            "\n",
            "     Epoch   gpu_mem       box       obj       cls    labels  img_size\n",
            "     57/59     4.54G   0.03501    0.0368   0.05928        28      1024: 100% 9/9 [00:03<00:00,  2.30it/s]\n",
            "               Class     Images     Labels          P          R     mAP@.5 mAP@.5:.95: 100% 1/1 [00:00<00:00,  6.08it/s]\n",
            "                 all         13         67      0.156       0.43      0.248       0.17\n",
            "\n",
            "     Epoch   gpu_mem       box       obj       cls    labels  img_size\n",
            "     58/59     4.54G   0.03548   0.03764   0.05917        65      1024: 100% 9/9 [00:03<00:00,  2.29it/s]\n",
            "               Class     Images     Labels          P          R     mAP@.5 mAP@.5:.95: 100% 1/1 [00:00<00:00,  5.81it/s]\n",
            "                 all         13         67      0.146      0.449      0.254      0.179\n",
            "\n",
            "     Epoch   gpu_mem       box       obj       cls    labels  img_size\n",
            "     59/59     4.54G   0.03443   0.03878     0.061        23      1024: 100% 9/9 [00:03<00:00,  2.29it/s]\n",
            "               Class     Images     Labels          P          R     mAP@.5 mAP@.5:.95: 100% 1/1 [00:00<00:00,  5.96it/s]\n",
            "                 all         13         67      0.144       0.45      0.246      0.157\n",
            "\n",
            "60 epochs completed in 0.078 hours.\n",
            "Optimizer stripped from /content/drive/MyDrive/Chess_images/chess/weights/last.pt, 14.6MB\n",
            "Optimizer stripped from /content/drive/MyDrive/Chess_images/chess/weights/best.pt, 14.6MB\n",
            "\n",
            "Validating /content/drive/MyDrive/Chess_images/chess/weights/best.pt...\n",
            "Fusing layers... \n",
            "Model Summary: 213 layers, 7042489 parameters, 0 gradients, 15.9 GFLOPs\n",
            "               Class     Images     Labels          P          R     mAP@.5 mAP@.5:.95: 100% 1/1 [00:00<00:00,  3.82it/s]\n",
            "                 all         13         67       0.22      0.419      0.263      0.199\n",
            "          white-rook         13          1     0.0342          1     0.0474     0.0379\n",
            "        black-bishop         13          3          0          0     0.0567     0.0368\n",
            "        black-knight         13          4          0          0     0.0796     0.0602\n",
            "          white-king         13          3      0.269      0.333      0.236      0.172\n",
            "          black-rook         13          5      0.101        0.6      0.102     0.0856\n",
            "          white-pawn         13         13      0.233          1        0.8      0.601\n",
            "        white-bishop         13          1          0          0     0.0269     0.0161\n",
            "         white-queen         13          4      0.417       0.25      0.419      0.318\n",
            "         black-queen         13          7       0.17      0.143      0.228      0.146\n",
            "          black-king         13          5      0.935        0.2      0.307      0.249\n",
            "          black-pawn         13         17      0.378          1        0.7      0.548\n",
            "        white-knight         13          4     0.0988        0.5      0.152      0.121\n",
            "Results saved to \u001b[1m/content/drive/MyDrive/Chess_images/chess\u001b[0m\n"
          ]
        }
      ]
    },
    {
      "cell_type": "code",
      "source": [
        ""
      ],
      "metadata": {
        "id": "6POEZ5n5l_tv"
      },
      "execution_count": null,
      "outputs": []
    }
  ]
}